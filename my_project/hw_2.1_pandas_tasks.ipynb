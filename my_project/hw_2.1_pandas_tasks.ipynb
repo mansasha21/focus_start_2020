{
 "cells": [
  {
   "cell_type": "markdown",
   "metadata": {},
   "source": [
    "## Лабораторная работа. Знакомство с библиотеками для анализа данных\n",
    "\n",
    "### О задании\n",
    "\n",
    "Лабораторная работа направлена на работу с пакетами NumPy, Pandas и Matplotlib путём решения набора задач. В данном задании разрешено пользоваться только стандартной библиотекой языка Python, а также пакетами NumPy, Pandas и Matplotlib. Целью задания является редактирование данного jupyter notebook-a (в части блоков с кодом на python) таким образом, чтобы были реализованы указанные в задании функции."
   ]
  },
  {
   "cell_type": "markdown",
   "metadata": {},
   "source": [
    "### Знакомство с Numpy\n",
    "\n",
    "Во всех заданиях данного раздела запрещено использовать циклы (ключевые слова *for* и *while*), [list comprehension](https://habrahabr.ru/post/30232/), [map и т.п.](http://pythonicway.com/python-functinal-programming)\n",
    "\n",
    "Для каждой задачи приведите примеры использования реализованных функций.\n",
    "\n",
    "Под матрицей в заданиях понимается двумерный [numpy.array](https://docs.scipy.org/doc/numpy/reference/generated/numpy.array.html)"
   ]
  },
  {
   "cell_type": "code",
   "execution_count": 1,
   "metadata": {},
   "outputs": [],
   "source": [
    "import numpy as np"
   ]
  },
  {
   "cell_type": "markdown",
   "metadata": {},
   "source": [
    "**(0.25 балла) Задание 1.** Реализуйте функцию, принимающую на вход матрицу ```X``` и два массива индексов ```indices1``` и ```indices2``` одинаковой длины и возвращающую np.array, состоящий из последовательности элементов \n",
    "\n",
    "```[X[indices1[0], indices2[0]], ... , X[indices1[N-1], indices2[N-1]]]```"
   ]
  },
  {
   "cell_type": "code",
   "execution_count": 2,
   "metadata": {},
   "outputs": [],
   "source": [
    "def construct_array(X, indices1, indices2):\n",
    "    return X[indices1, indices2]"
   ]
  },
  {
   "cell_type": "markdown",
   "metadata": {},
   "source": [
    "**(0.25 балла) Задача 2.** Реализуйте функцию, которая на вход принимает два массива ```X``` и ```Y``` (массивы могут быть n-мерные, но их размерности должны совпадать), а возвращает **True** если они равны и **False** - иначе."
   ]
  },
  {
   "cell_type": "code",
   "execution_count": 3,
   "metadata": {},
   "outputs": [],
   "source": [
    "def detect_identic(X, Y):\n",
    "    return np.array_equal(X, Y)"
   ]
  },
  {
   "cell_type": "markdown",
   "metadata": {},
   "source": [
    "**(0.25 балла) Задание 3.** Реализуйте функцию, которая на вход принимает цветное изображение ```X``` (трехмерный вектор размера (n, m, 3)) и возвращает среднее значение по трём каналам (вектор длины 3)."
   ]
  },
  {
   "cell_type": "code",
   "execution_count": 4,
   "metadata": {},
   "outputs": [],
   "source": [
    "def mean_channel(X):\n",
    "    return np.mean(X, axis=(1, 0))"
   ]
  },
  {
   "cell_type": "markdown",
   "metadata": {},
   "source": [
    "**(0.25 балла) Задание 4.** Реализуйте функцию, принимающую на вход матрицу ```X``` и некоторое число ```a``` и возвращающую ближайший к числу элемент матрицы.\n",
    "\n",
    "Например, для ```X = np.arange(0,10).reshape((2, 5))``` и ```a = 3.6``` ответом будет 4."
   ]
  },
  {
   "cell_type": "code",
   "execution_count": 5,
   "metadata": {},
   "outputs": [],
   "source": [
    "def nearest_value(X, a):\n",
    "    return X.flat[np.abs(X - a).argmin()]"
   ]
  },
  {
   "cell_type": "markdown",
   "metadata": {},
   "source": [
    "**(0.5 балла) Задача 5.** Реализуйте функцию, принимающую на вход два одномерных массива ```x``` и ```y``` и возвращающую матрицу, в которой первый массив соответствует первому столбцу матрицы, второй - второму.\n",
    "\n",
    "В этом задании **запрещается** пользоваться операцией транспонирования и рекомедуется воспользоваться методом [reshape](https://docs.scipy.org/doc/numpy-1.13.0/reference/generated/numpy.reshape.html)."
   ]
  },
  {
   "cell_type": "code",
   "execution_count": 6,
   "metadata": {},
   "outputs": [],
   "source": [
    "def construct_matrix(x, y):\n",
    "    return np.concatenate((x.reshape(x.shape[0], 1), y.reshape(y.shape[0], 1)), axis=1)"
   ]
  },
  {
   "cell_type": "markdown",
   "metadata": {},
   "source": [
    "**(0.5 балла) Задание 6.** Реализуйте функцию, которая на вход принимает вектор ```x```, содержащий целые числа, кроме 0, а возвращает вектор со вставленными нулями между числами.\n",
    "\n",
    "Например, из ```[1, -5, 3]``` получить ```[1, 0, -5, 0, 3]```"
   ]
  },
  {
   "cell_type": "code",
   "execution_count": 7,
   "metadata": {},
   "outputs": [],
   "source": [
    "def add_zeros(x):\n",
    "    return np.dstack((x, np.zeros_like(x))).reshape((x.shape[0] * 2))[:-1]"
   ]
  },
  {
   "cell_type": "markdown",
   "metadata": {},
   "source": [
    "**(0.75 балла) Задание 7.** Реализуйте функцию для подсчёта произведения ненулевых элементов на диагонали прямоугольной матрицы\n",
    "\n",
    "Например, для ```X = np.array([[1, 0, 1], [2, 0, 2], [3, 0, 3], [4, 4, 4]])``` ответом является 3. Если ненулевых элементов нет, функция должна возвращать ```None```."
   ]
  },
  {
   "cell_type": "code",
   "execution_count": 8,
   "metadata": {},
   "outputs": [],
   "source": [
    "def nonzero_product(X):\n",
    "    min_shape = np.min(X.shape)\n",
    "    diag = X[np.arange(min_shape), np.arange(min_shape)]\n",
    "    \n",
    "    if np.sum(diag) == 0:\n",
    "        return None\n",
    "    diag[diag == 0] = 1\n",
    "    return np.product(diag)"
   ]
  },
  {
   "cell_type": "markdown",
   "metadata": {},
   "source": [
    "**(0.75 балла) Задание 8.** Реализуйте функцию, возвращающую максимальный элемент в массиве ```X``` среди элементов, перед которыми стоит нулевой.\n",
    "\n",
    "Например, для ```X = np.array([6, 2, 0, 3, 0, 0, 5, 7, 0])``` ответом является 5. Если подходящих элементов нет, функция должна возвращать ```None```."
   ]
  },
  {
   "cell_type": "code",
   "execution_count": 9,
   "metadata": {},
   "outputs": [],
   "source": [
    "def max_element(X):\n",
    "    args = np.nonzero(X == 0)[0] + 1\n",
    "    if args.size == 0 or args.size == 1 and args[-1] == X.shape[0]:\n",
    "        return None\n",
    "    if args[-1] == X.shape[0]:\n",
    "        args = args[:-1]\n",
    "    return np.max(X[args])\n",
    "    "
   ]
  },
  {
   "cell_type": "markdown",
   "metadata": {},
   "source": [
    "**(0.75 балла) Задание 9.** Реализуйте функцию, принимающую на вход матрицу ```X``` и возвращающую все её уникальные строки в виде матрицы."
   ]
  },
  {
   "cell_type": "code",
   "execution_count": 10,
   "metadata": {},
   "outputs": [],
   "source": [
    "#Если порядок не важен\n",
    "def get_unique_rows(X):\n",
    "    return np.unique(X, axis=0) \n",
    "\n",
    "#Если порядок важен\n",
    "def get_unique_rows_not_sorted(X):\n",
    "    return X[np.sort(np.unique(X, axis=0, return_index=True)[1])] "
   ]
  },
  {
   "cell_type": "markdown",
   "metadata": {},
   "source": [
    "**(0.75 балла) Задача 10.** Реализуйте функцию, каторая во входной вещественной матрице ```X``` находит все значения ```nan``` и заменяет их на среднее арифметическое всех остальных элементов. Если все элементы матрицы ```nan```, то верните нулевую матрицу той же размерности."
   ]
  },
  {
   "cell_type": "code",
   "execution_count": 11,
   "metadata": {},
   "outputs": [],
   "source": [
    "def replace_nans(X):\n",
    "    mask = np.isnan(X)\n",
    "    if np.sum(mask) == X.size:\n",
    "        return np.zeros_like(X)\n",
    "    X[mask] = np.mean(X[~mask])\n",
    "    return X"
   ]
  },
  {
   "cell_type": "markdown",
   "metadata": {},
   "source": [
    "**(1 балл) Задача 11.** Напишите функцию, генерирующую [матрицу Вандермонда](https://ru.wikipedia.org/wiki/Определитель_Вандермонда), принемающую на вход вектор $(x_1, ... , x_n)$.\n",
    "\n",
    "В этом задании **запрещается** пользоваться готовыми реализациями (например, [numpy.vander](https://docs.scipy.org/doc/numpy-1.13.0/reference/generated/numpy.vander.html)), а также [np.repeat](https://docs.scipy.org/doc/numpy/reference/generated/numpy.repeat.html) и [np.transpose](https://docs.scipy.org/doc/numpy/reference/generated/numpy.transpose.html).\n",
    "\n",
    "При решение задействуйте [np.reshape](https://docs.scipy.org/doc/numpy/reference/generated/numpy.reshape.html) и/или [np.newaxis](https://docs.scipy.org/doc/numpy-1.13.0/reference/arrays.indexing.html)."
   ]
  },
  {
   "cell_type": "code",
   "execution_count": 12,
   "metadata": {},
   "outputs": [],
   "source": [
    "def vander(x):\n",
    "    return x[:, np.newaxis] ** np.arange(x.shape[0] - 1, -1, -1)"
   ]
  },
  {
   "cell_type": "markdown",
   "metadata": {},
   "source": [
    "**(1 балл) Задача 12.** Даны две вещественные матрицы ```X``` и ```Y``` с одинаковым числом столбцов и, в общем случае, различным числом строк. Необходимо реализовать функцию, вычисляющую матрицу попарных [косинусных коэффициентов](https://en.wikipedia.org/wiki/Cosine_similarity) между всеми $X_i и Y_j$, где $X_i$ - $i$-ая строка матрицы $X$, а $Y_j$ - $j$-ая строка матрицы $Y$. \n",
    "\n",
    "В этом задании **запрещается** пользоваться готовыми реализациями, а также [np.repeat](https://docs.scipy.org/doc/numpy/reference/generated/numpy.repeat.html) и [np.transpose](https://docs.scipy.org/doc/numpy/reference/generated/numpy.transpose.html).\n",
    "\n",
    "При решение задействуйте [np.reshape](https://docs.scipy.org/doc/numpy/reference/generated/numpy.reshape.html) и/или [np.newaxis](https://docs.scipy.org/doc/numpy-1.13.0/reference/arrays.indexing.html), [np.sqrt](https://docs.scipy.org/doc/numpy/reference/generated/numpy.sqrt.html), [np.sum](https://docs.scipy.org/doc/numpy/reference/generated/numpy.sum.html) и [np.power](https://docs.scipy.org/doc/numpy/reference/generated/numpy.power.html)."
   ]
  },
  {
   "cell_type": "code",
   "execution_count": 13,
   "metadata": {},
   "outputs": [],
   "source": [
    "def cos_coefs(X, Y):\n",
    "    numerator = np.sum(X[:, np.newaxis] * Y, axis=-1)\n",
    "    denominator = np.sqrt(np.sum(X[:, np.newaxis] ** 2, axis=-1)) * np.sqrt(np.sum(Y ** 2, axis=-1))\n",
    "    return numerator / denominator"
   ]
  },
  {
   "cell_type": "markdown",
   "metadata": {},
   "source": [
    "**(1 балл) Задача 13.** Написать функцию, которая получает на вход матрицу и масштабирует каждый её столбец, а именно вычитает из столбца его среднее значение и делит столбец на стандартное отклонение.\n",
    "\n",
    "Для тестирования можно сгенерировать с помощью метода [numpy.random.randint](https://docs.scipy.org/doc/numpy/reference/generated/numpy.random.randint.html) случайную матрицу и проверить на ней работу метода.\n",
    "\n",
    "Убедитесь, что в функции не будет происходить деления на ноль, если происходит деление на ноль, то верните **None**."
   ]
  },
  {
   "cell_type": "code",
   "execution_count": 14,
   "metadata": {},
   "outputs": [],
   "source": [
    "def scale(X):\n",
    "    mean = np.mean(X, axis=1)\n",
    "    std = np.std(X, axis=1)\n",
    "    if 0 in std:\n",
    "        return None\n",
    "    return (X - mean[:, np.newaxis]) / std[:, np.newaxis]"
   ]
  },
  {
   "cell_type": "markdown",
   "metadata": {},
   "source": [
    "**(1 балл) Задача 14.** Пусть $N=1000$. Повторите $N$ раз следующий эксперимент: сгенерируйте две матрицы размера $N×N$ из стандартного нормального распределения, перемножьте их (как матрицы) и найдите максимальный элемент. Какое среднее значение по экспериментам у максимальных элементов? 95-процентная квантиль? \n",
    "\n",
    "При решение задачи для повторения экспериментов воспользуйтесь [list comprehension](https://habrahabr.ru/post/30232/), а также [tqdm_notebook](https://habrahabr.ru/post/276725/) - для отслеживания прогресса."
   ]
  },
  {
   "cell_type": "code",
   "execution_count": 46,
   "metadata": {},
   "outputs": [
    {
     "name": "stderr",
     "output_type": "stream",
     "text": [
      "100%|█████████████████████████████████████████████████████████████████████████████████████████████████████████████████████████████████| 1000/1000 [01:14<00:00, 13.39it/s]"
     ]
    },
    {
     "name": "stdout",
     "output_type": "stream",
     "text": [
      "Среднее значение по максимальным элементам 154.55298139669458\n",
      "95-процентная квантиль по максимальным элементам 170.04330454504526\n"
     ]
    },
    {
     "name": "stderr",
     "output_type": "stream",
     "text": [
      "\n"
     ]
    }
   ],
   "source": [
    "from tqdm import tqdm\n",
    "\n",
    "def create_matrix(N):\n",
    "    return np.random.normal(size=(N, N)) @ np.random.normal(size=(N, N))\n",
    "\n",
    "N = 1000\n",
    "maxs = [np.max(create_matrix(N)) for _ in tqdm(range(N), position=0, leave=True)]\n",
    "print(\"Среднее значение по максимальным элементам {}\".format(np.mean(maxs)))\n",
    "print(\"95-процентная квантиль по максимальным элементам {}\".format(np.quantile(maxs, 0.95)))"
   ]
  },
  {
   "cell_type": "markdown",
   "metadata": {},
   "source": [
    "### Аналитика данных с Pandas \n",
    "\n",
    "![](https://metrouk2.files.wordpress.com/2015/10/panda.jpg)"
   ]
  },
  {
   "cell_type": "markdown",
   "metadata": {},
   "source": [
    "Загрузите таблицу с данными из ```articles.csv```. Удалите записи, в которых присутствуют пропуски.\n"
   ]
  },
  {
   "cell_type": "markdown",
   "metadata": {},
   "source": [
    "**(0.5 балла) Задача 15.** Проделайте следующие базовые операции с датафреймами:\n",
    "\n",
    "1. определите количество различных издательств в таблице;\n",
    "2. найдите количество опубликованных статей в отрезке [2016-06-01, 2016-12-31];\n",
    "3. посчитайте распределение статей автора *Tom Ciccotta* по годам;\n",
    "4. найдите месяц, в котором было наибольшее число статей;\n",
    "5. выпишите 3 первые статьи автора *John Hayward* в 2016 году."
   ]
  },
  {
   "cell_type": "code",
   "execution_count": 328,
   "metadata": {},
   "outputs": [],
   "source": [
    "import pandas as pd"
   ]
  },
  {
   "cell_type": "code",
   "execution_count": 329,
   "metadata": {},
   "outputs": [],
   "source": [
    "df = pd.read_csv('../raw_data/articles.csv')\n",
    "df.dropna(inplace=True)"
   ]
  },
  {
   "cell_type": "code",
   "execution_count": 330,
   "metadata": {},
   "outputs": [
    {
     "name": "stdout",
     "output_type": "stream",
     "text": [
      "Количество различных издательств =  5\n"
     ]
    }
   ],
   "source": [
    "# определите количество различных издательств в таблице;\n",
    "print(\"Количество различных издательств = \", df.publication.unique().shape[0])"
   ]
  },
  {
   "cell_type": "code",
   "execution_count": 340,
   "metadata": {},
   "outputs": [
    {
     "name": "stdout",
     "output_type": "stream",
     "text": [
      "Количество опубликованных статей =  17031\n"
     ]
    }
   ],
   "source": [
    "# найдите количество опубликованных статей в отрезке [2016-06-01, 2016-12-31];\n",
    "from datetime import datetime\n",
    "df.date = pd.to_datetime(df.date)\n",
    "mask = (datetime(2016,6,1) < df.date).values & (df.date < datetime(2016,12,31)).values \n",
    "print(\"Количество опубликованных статей = \", df[mask].shape[0])"
   ]
  },
  {
   "cell_type": "code",
   "execution_count": 341,
   "metadata": {},
   "outputs": [
    {
     "data": {
      "text/plain": [
       "year\n",
       "2016    124\n",
       "2017    132\n",
       "Name: publication, dtype: int64"
      ]
     },
     "execution_count": 341,
     "metadata": {},
     "output_type": "execute_result"
    }
   ],
   "source": [
    "# посчитайте распределение статей автора Tom Ciccotta по годам;\n",
    "mask = df.author == 'Tom Ciccotta'\n",
    "df[mask].groupby('year').count().publication"
   ]
  },
  {
   "cell_type": "code",
   "execution_count": 342,
   "metadata": {},
   "outputs": [
    {
     "name": "stdout",
     "output_type": "stream",
     "text": [
      "Месяц в котором было больше всего статей - 0 (январь)\n"
     ]
    }
   ],
   "source": [
    "# найдите месяц, в котором было наибольшее число статей;\n",
    "print(\"Месяц в котором было больше всего статей - {} (январь)\".format(df.groupby('month').count().publication.argmax()))"
   ]
  },
  {
   "cell_type": "code",
   "execution_count": 343,
   "metadata": {},
   "outputs": [
    {
     "name": "stdout",
     "output_type": "stream",
     "text": [
      "Indonesian Couple Beaten with Canes for Violating Sharia Law\n",
      "Islamic State Claims Credit For Gun Attack On Russian Tourists\n",
      "Protests Across India Against Saudi Execution of Shiite Cleric\n"
     ]
    }
   ],
   "source": [
    "# выпишите 3 первые статьи автора John Hayward в 2016 году.\n",
    "mask = (df.year == 2016).values & (df.author == \"John Hayward\").values\n",
    "print(*df[mask].sort_values('date').title[:3].values, sep='\\n')"
   ]
  },
  {
   "cell_type": "markdown",
   "metadata": {},
   "source": [
    "**Работа со строками в датафрейме.**\n",
    "\n",
    "Для датафреймов существуют методы работы со строковыми данными. Чтобы применить их, необходимо воспользоваться атрибутом ```str```, после чего вызвать нужные методы работы со строками. Например, вызов:\n",
    "\n",
    "```df['content'].str.len() ```\n",
    "\n",
    "подсчитает для каждой строчки в датафрейме количество символов в колонке content. Более подробную информацию про работу с текстовыми данными в Pandas можно найти [здесь](https://pandas.pydata.org/pandas-docs/stable/user_guide/text.html).\n"
   ]
  },
  {
   "cell_type": "markdown",
   "metadata": {},
   "source": [
    "**(0.5 балла) Задача 16.**\n",
    "\n",
    "Найдите в датафрейме всех авторов, имя которых содержит Faith. Выведите Series, состоящий из всех таких уникальных имен."
   ]
  },
  {
   "cell_type": "code",
   "execution_count": 344,
   "metadata": {},
   "outputs": [
    {
     "data": {
      "text/plain": [
       "0     Faith Haleh Robinson\n",
       "1             Faith Karimi\n",
       "2     Faith Haleh Robinson\n",
       "3            Faith Karimi,\n",
       "4            Faith Karimi \n",
       "5           Faith Karimi, \n",
       "6             Faith Karimi\n",
       "7            Faith Karimi \n",
       "dtype: object"
      ]
     },
     "execution_count": 344,
     "metadata": {},
     "output_type": "execute_result"
    }
   ],
   "source": [
    "pd.Series(df.author[df.author.str.contains('Faith')].unique())"
   ]
  },
  {
   "cell_type": "markdown",
   "metadata": {},
   "source": [
    "**(1 балл) Задача 17.**\n",
    "\n",
    "Как можно заметить, в таблице существует множество различных написаний имени Faith Karimi. В основном эти написания различаются пунктуацией - лишние пробелы и запятые. Для правильного подсчета статистик для текстовых данных зачастую возникает необходимость в их предобработке.\n",
    "\n",
    "Проведите следующие преобразования для колонок *author* и *content*:\n",
    "\n",
    "1. приведение текста к нижнему регистру;\n",
    "\n",
    "2. удаление всей пунктуации из текста;\n",
    "\n",
    "3. удаление пробелов в начале и конце строки;\n",
    "\n",
    "3. замена подряд идущих пробелов одним пробелом.\n",
    "\n",
    "Например, строка ```\"   It's 6 a.m. and I'm still doing this homework :((    \"```\n",
    "\n",
    "преобразуется в строку  ```its 6 am and im still doing this homework```\n",
    "\n",
    "Подсчитайте статистику для имени Faith из прошлого задания. Проверьте, что теперь различные способы написания «схлопываются» в один."
   ]
  },
  {
   "cell_type": "code",
   "execution_count": 345,
   "metadata": {},
   "outputs": [
    {
     "data": {
      "text/html": [
       "<div>\n",
       "<style scoped>\n",
       "    .dataframe tbody tr th:only-of-type {\n",
       "        vertical-align: middle;\n",
       "    }\n",
       "\n",
       "    .dataframe tbody tr th {\n",
       "        vertical-align: top;\n",
       "    }\n",
       "\n",
       "    .dataframe thead th {\n",
       "        text-align: right;\n",
       "    }\n",
       "</style>\n",
       "<table border=\"1\" class=\"dataframe\">\n",
       "  <thead>\n",
       "    <tr style=\"text-align: right;\">\n",
       "      <th></th>\n",
       "      <th>id</th>\n",
       "      <th>title</th>\n",
       "      <th>publication</th>\n",
       "      <th>author</th>\n",
       "      <th>date</th>\n",
       "      <th>year</th>\n",
       "      <th>month</th>\n",
       "      <th>content</th>\n",
       "    </tr>\n",
       "  </thead>\n",
       "  <tbody>\n",
       "    <tr>\n",
       "      <th>0</th>\n",
       "      <td>17283</td>\n",
       "      <td>House Republicans Fret About Winning Their Hea...</td>\n",
       "      <td>New York Times</td>\n",
       "      <td>carl hulse</td>\n",
       "      <td>2016-12-31</td>\n",
       "      <td>2016</td>\n",
       "      <td>12</td>\n",
       "      <td>washington congressional republicans have a ne...</td>\n",
       "    </tr>\n",
       "    <tr>\n",
       "      <th>1</th>\n",
       "      <td>17284</td>\n",
       "      <td>Rift Between Officers and Residents as Killing...</td>\n",
       "      <td>New York Times</td>\n",
       "      <td>benjamin mueller and al baker</td>\n",
       "      <td>2017-06-19</td>\n",
       "      <td>2017</td>\n",
       "      <td>6</td>\n",
       "      <td>after the bullet shells get counted the blood ...</td>\n",
       "    </tr>\n",
       "    <tr>\n",
       "      <th>2</th>\n",
       "      <td>17285</td>\n",
       "      <td>Tyrus Wong, ‘Bambi’ Artist Thwarted by Racial ...</td>\n",
       "      <td>New York Times</td>\n",
       "      <td>margalit fox</td>\n",
       "      <td>2017-01-06</td>\n",
       "      <td>2017</td>\n",
       "      <td>1</td>\n",
       "      <td>when walt disneys bambi opened in 1942 critics...</td>\n",
       "    </tr>\n",
       "    <tr>\n",
       "      <th>3</th>\n",
       "      <td>17286</td>\n",
       "      <td>Among Deaths in 2016, a Heavy Toll in Pop Musi...</td>\n",
       "      <td>New York Times</td>\n",
       "      <td>william mcdonald</td>\n",
       "      <td>2017-04-10</td>\n",
       "      <td>2017</td>\n",
       "      <td>4</td>\n",
       "      <td>death may be the great equalizer but it isnt n...</td>\n",
       "    </tr>\n",
       "    <tr>\n",
       "      <th>4</th>\n",
       "      <td>17287</td>\n",
       "      <td>Kim Jong-un Says North Korea Is Preparing to T...</td>\n",
       "      <td>New York Times</td>\n",
       "      <td>choe sanghun</td>\n",
       "      <td>2017-01-02</td>\n",
       "      <td>2017</td>\n",
       "      <td>1</td>\n",
       "      <td>seoul south korea north koreas leader kim said...</td>\n",
       "    </tr>\n",
       "  </tbody>\n",
       "</table>\n",
       "</div>"
      ],
      "text/plain": [
       "      id                                              title     publication  \\\n",
       "0  17283  House Republicans Fret About Winning Their Hea...  New York Times   \n",
       "1  17284  Rift Between Officers and Residents as Killing...  New York Times   \n",
       "2  17285  Tyrus Wong, ‘Bambi’ Artist Thwarted by Racial ...  New York Times   \n",
       "3  17286  Among Deaths in 2016, a Heavy Toll in Pop Musi...  New York Times   \n",
       "4  17287  Kim Jong-un Says North Korea Is Preparing to T...  New York Times   \n",
       "\n",
       "                          author       date  year  month  \\\n",
       "0                     carl hulse 2016-12-31  2016     12   \n",
       "1  benjamin mueller and al baker 2017-06-19  2017      6   \n",
       "2                   margalit fox 2017-01-06  2017      1   \n",
       "3               william mcdonald 2017-04-10  2017      4   \n",
       "4                   choe sanghun 2017-01-02  2017      1   \n",
       "\n",
       "                                             content  \n",
       "0  washington congressional republicans have a ne...  \n",
       "1  after the bullet shells get counted the blood ...  \n",
       "2  when walt disneys bambi opened in 1942 critics...  \n",
       "3  death may be the great equalizer but it isnt n...  \n",
       "4  seoul south korea north koreas leader kim said...  "
      ]
     },
     "execution_count": 345,
     "metadata": {},
     "output_type": "execute_result"
    }
   ],
   "source": [
    "df[['author', 'content']] = df[['author', 'content']].apply(lambda x: x.str.lower())\n",
    "df[['author', 'content']] = df[['author', 'content']].apply(lambda x: x.str.replace('[^\\w\\s]', '').str.strip())\n",
    "df[['author', 'content']] = df[['author', 'content']].replace('\\s+', ' ', regex=True)\n",
    "df.head()"
   ]
  },
  {
   "cell_type": "code",
   "execution_count": 346,
   "metadata": {},
   "outputs": [
    {
     "data": {
      "text/plain": [
       "0    faith haleh robinson\n",
       "1            faith karimi\n",
       "dtype: object"
      ]
     },
     "execution_count": 346,
     "metadata": {},
     "output_type": "execute_result"
    }
   ],
   "source": [
    "# Подсчитайте статистику для имени Faith из прошлого задания. \n",
    "# Проверьте, что теперь различные способы написания «схлопываются» в один.\n",
    "\n",
    "# Your code here\n",
    "pd.Series(df.author[df.author.str.contains('faith')].unique())"
   ]
  },
  {
   "cell_type": "markdown",
   "metadata": {},
   "source": [
    "**Группировка данных**\n",
    "\n",
    "С помощью метода [groupby](https://pandas.pydata.org/pandas-docs/stable/reference/api/pandas.DataFrame.groupby.html) удобно группировать данные по значениям одной или нескольких колонок. Далее можно вычислять различные статистики для каждой группы по отдельности.\n",
    "\n",
    "**(1 балл) Задача 18.**\n",
    "\n",
    "Выведите для каждого автора максимальное количество публикаций за календарный год (колонка year), а также сам год, на котором достигается этот максимум. Выведите топ-20 строк в порядке убывания количества публикаций.\n",
    "\n",
    "Пример:\n",
    "\n",
    "Василий Пупкин написал 3 статьи в 2016, и 4 в 2017, а его брат Иван Пупкин только 1 статью в 2016, а в 2017 он отправился в армию и статей не писал.\n",
    "\n",
    "Необходимо вывести\n",
    "\n",
    "```\n",
    "Василий Пупкин - 2017 - 4\n",
    "Иван Пупкин    - 2016 - 1\n",
    "```\n",
    "\n",
    "Обратите внимание, что несколько вызовов методов над датафреймами можно объединить в один pipeline. Другими словами, можно писать\n",
    "\n",
    "```\n",
    "df.func1().func2().funс3()\n",
    "```\n",
    "\n",
    "По возможности реализуйте требуемую функцию с помощью **одного** такого пайплайна. Делайте переносы для лучшей читаемости кода."
   ]
  },
  {
   "cell_type": "code",
   "execution_count": 347,
   "metadata": {},
   "outputs": [
    {
     "data": {
      "text/plain": [
       "author               year\n",
       "breitbart news       2016    1317\n",
       "pam key              2016     820\n",
       "charlie spiering     2016     660\n",
       "alex swoyer          2016     584\n",
       "daniel nussbaum      2016     532\n",
       "awr hawkins          2016     525\n",
       "john hayward         2016     521\n",
       "jerome hudson        2016     482\n",
       "ian hanchett         2016     429\n",
       "joel b pollak        2016     417\n",
       "jeff poor            2016     323\n",
       "warner todd huston   2016     316\n",
       "trent baker          2016     280\n",
       "patrick howley       2016     259\n",
       "breitbart london     2016     258\n",
       "frances martel       2016     257\n",
       "charlie nash         2016     254\n",
       "katherine rodriguez  2017     231\n",
       "ben kew              2016     221\n",
       "aaron klein          2016     209\n",
       "Name: publication, dtype: int64"
      ]
     },
     "execution_count": 347,
     "metadata": {},
     "output_type": "execute_result"
    }
   ],
   "source": [
    "df.groupby(['author', 'year']).count().sort_values('publication',ascending=False).publication.groupby(level=0, sort=False).head(1).head(20)"
   ]
  },
  {
   "cell_type": "markdown",
   "metadata": {},
   "source": [
    "**(1 балл) Задача 19.**\n",
    "Для каждой статьи $i$ исходного датафрейма посчитайте количество статей, опубликованных тем же издательством (publication), к моменту публикации $i$ (включая статьи того же дня).\n",
    "\n",
    "Обратите внимание, что для всех статей, выпущенных одним издательством в один день, должен получиться одинаковый ответ.\n",
    "\n",
    "**Hint**. Возможный вариант решения:\n",
    "\n",
    "1. сгруппировав данные по полям *publication*, *date*, посчитать размер каждой группы;\n",
    "2. приджойнить размер группы к основному датафрейму с помощью функуии ```pd.merge```."
   ]
  },
  {
   "cell_type": "code",
   "execution_count": 379,
   "metadata": {},
   "outputs": [
    {
     "data": {
      "text/html": [
       "<div>\n",
       "<style scoped>\n",
       "    .dataframe tbody tr th:only-of-type {\n",
       "        vertical-align: middle;\n",
       "    }\n",
       "\n",
       "    .dataframe tbody tr th {\n",
       "        vertical-align: top;\n",
       "    }\n",
       "\n",
       "    .dataframe thead th {\n",
       "        text-align: right;\n",
       "    }\n",
       "</style>\n",
       "<table border=\"1\" class=\"dataframe\">\n",
       "  <thead>\n",
       "    <tr style=\"text-align: right;\">\n",
       "      <th></th>\n",
       "      <th>id</th>\n",
       "      <th>title</th>\n",
       "      <th>publication</th>\n",
       "      <th>author</th>\n",
       "      <th>date</th>\n",
       "      <th>year</th>\n",
       "      <th>month</th>\n",
       "      <th>content</th>\n",
       "      <th>cumsum</th>\n",
       "    </tr>\n",
       "  </thead>\n",
       "  <tbody>\n",
       "    <tr>\n",
       "      <th>0</th>\n",
       "      <td>17283</td>\n",
       "      <td>House Republicans Fret About Winning Their Hea...</td>\n",
       "      <td>New York Times</td>\n",
       "      <td>carl hulse</td>\n",
       "      <td>2016-12-31</td>\n",
       "      <td>2016</td>\n",
       "      <td>12</td>\n",
       "      <td>washington congressional republicans have a ne...</td>\n",
       "      <td>39535</td>\n",
       "    </tr>\n",
       "    <tr>\n",
       "      <th>1</th>\n",
       "      <td>17291</td>\n",
       "      <td>First, a Mixtape. Then a Romance. - The New Yo...</td>\n",
       "      <td>New York Times</td>\n",
       "      <td>katherine rosman</td>\n",
       "      <td>2016-12-31</td>\n",
       "      <td>2016</td>\n",
       "      <td>12</td>\n",
       "      <td>just how is hillary kerr the founder of a digi...</td>\n",
       "      <td>39535</td>\n",
       "    </tr>\n",
       "    <tr>\n",
       "      <th>2</th>\n",
       "      <td>17292</td>\n",
       "      <td>Calling on Angels While Enduring the Trials of...</td>\n",
       "      <td>New York Times</td>\n",
       "      <td>andy newman</td>\n",
       "      <td>2016-12-31</td>\n",
       "      <td>2016</td>\n",
       "      <td>12</td>\n",
       "      <td>angels are everywhere in the muñiz familys apa...</td>\n",
       "      <td>39535</td>\n",
       "    </tr>\n",
       "    <tr>\n",
       "      <th>3</th>\n",
       "      <td>24819</td>\n",
       "      <td>Pan Pan, Father to a Generation of Pandas, Die...</td>\n",
       "      <td>New York Times</td>\n",
       "      <td>erin mccann</td>\n",
       "      <td>2016-12-31</td>\n",
       "      <td>2016</td>\n",
       "      <td>12</td>\n",
       "      <td>pan pan a giant panda whose virility helped sp...</td>\n",
       "      <td>39535</td>\n",
       "    </tr>\n",
       "    <tr>\n",
       "      <th>4</th>\n",
       "      <td>17284</td>\n",
       "      <td>Rift Between Officers and Residents as Killing...</td>\n",
       "      <td>New York Times</td>\n",
       "      <td>benjamin mueller and al baker</td>\n",
       "      <td>2017-06-19</td>\n",
       "      <td>2017</td>\n",
       "      <td>6</td>\n",
       "      <td>after the bullet shells get counted the blood ...</td>\n",
       "      <td>43694</td>\n",
       "    </tr>\n",
       "    <tr>\n",
       "      <th>...</th>\n",
       "      <td>...</td>\n",
       "      <td>...</td>\n",
       "      <td>...</td>\n",
       "      <td>...</td>\n",
       "      <td>...</td>\n",
       "      <td>...</td>\n",
       "      <td>...</td>\n",
       "      <td>...</td>\n",
       "      <td>...</td>\n",
       "    </tr>\n",
       "    <tr>\n",
       "      <th>43689</th>\n",
       "      <td>73454</td>\n",
       "      <td>The Enduring Mystery of Pain Measurement</td>\n",
       "      <td>Atlantic</td>\n",
       "      <td>john walsh</td>\n",
       "      <td>2017-01-10</td>\n",
       "      <td>2017</td>\n",
       "      <td>1</td>\n",
       "      <td>one night in may my wife sat up in bed and sai...</td>\n",
       "      <td>154</td>\n",
       "    </tr>\n",
       "    <tr>\n",
       "      <th>43690</th>\n",
       "      <td>73455</td>\n",
       "      <td>What Conan O’Brien Means to Late Night’s Future</td>\n",
       "      <td>Atlantic</td>\n",
       "      <td>david sims</td>\n",
       "      <td>2017-01-10</td>\n",
       "      <td>2017</td>\n",
       "      <td>1</td>\n",
       "      <td>conan obrien was once the upstart of the comed...</td>\n",
       "      <td>154</td>\n",
       "    </tr>\n",
       "    <tr>\n",
       "      <th>43691</th>\n",
       "      <td>73456</td>\n",
       "      <td>The Absurdity of Attacking Celebrities to Defe...</td>\n",
       "      <td>Atlantic</td>\n",
       "      <td>conor friedersdorf</td>\n",
       "      <td>2017-01-10</td>\n",
       "      <td>2017</td>\n",
       "      <td>1</td>\n",
       "      <td>fifty years ago california republicans elected...</td>\n",
       "      <td>154</td>\n",
       "    </tr>\n",
       "    <tr>\n",
       "      <th>43692</th>\n",
       "      <td>73457</td>\n",
       "      <td>Drive-Through Redwoods Are Monuments to Violen...</td>\n",
       "      <td>Atlantic</td>\n",
       "      <td>sarah zhang</td>\n",
       "      <td>2017-01-10</td>\n",
       "      <td>2017</td>\n",
       "      <td>1</td>\n",
       "      <td>this weekend amidst a torrent of rain one of c...</td>\n",
       "      <td>154</td>\n",
       "    </tr>\n",
       "    <tr>\n",
       "      <th>43693</th>\n",
       "      <td>73458</td>\n",
       "      <td>How Superstar Economics Is Killing the NFL’s R...</td>\n",
       "      <td>Atlantic</td>\n",
       "      <td>derek thompson</td>\n",
       "      <td>2017-01-10</td>\n",
       "      <td>2017</td>\n",
       "      <td>1</td>\n",
       "      <td>for years the national football league has bee...</td>\n",
       "      <td>154</td>\n",
       "    </tr>\n",
       "  </tbody>\n",
       "</table>\n",
       "<p>43694 rows × 9 columns</p>\n",
       "</div>"
      ],
      "text/plain": [
       "          id                                              title  \\\n",
       "0      17283  House Republicans Fret About Winning Their Hea...   \n",
       "1      17291  First, a Mixtape. Then a Romance. - The New Yo...   \n",
       "2      17292  Calling on Angels While Enduring the Trials of...   \n",
       "3      24819  Pan Pan, Father to a Generation of Pandas, Die...   \n",
       "4      17284  Rift Between Officers and Residents as Killing...   \n",
       "...      ...                                                ...   \n",
       "43689  73454           The Enduring Mystery of Pain Measurement   \n",
       "43690  73455    What Conan O’Brien Means to Late Night’s Future   \n",
       "43691  73456  The Absurdity of Attacking Celebrities to Defe...   \n",
       "43692  73457  Drive-Through Redwoods Are Monuments to Violen...   \n",
       "43693  73458  How Superstar Economics Is Killing the NFL’s R...   \n",
       "\n",
       "          publication                         author       date  year  month  \\\n",
       "0      New York Times                     carl hulse 2016-12-31  2016     12   \n",
       "1      New York Times               katherine rosman 2016-12-31  2016     12   \n",
       "2      New York Times                    andy newman 2016-12-31  2016     12   \n",
       "3      New York Times                    erin mccann 2016-12-31  2016     12   \n",
       "4      New York Times  benjamin mueller and al baker 2017-06-19  2017      6   \n",
       "...               ...                            ...        ...   ...    ...   \n",
       "43689        Atlantic                     john walsh 2017-01-10  2017      1   \n",
       "43690        Atlantic                     david sims 2017-01-10  2017      1   \n",
       "43691        Atlantic             conor friedersdorf 2017-01-10  2017      1   \n",
       "43692        Atlantic                    sarah zhang 2017-01-10  2017      1   \n",
       "43693        Atlantic                 derek thompson 2017-01-10  2017      1   \n",
       "\n",
       "                                                 content  cumsum  \n",
       "0      washington congressional republicans have a ne...   39535  \n",
       "1      just how is hillary kerr the founder of a digi...   39535  \n",
       "2      angels are everywhere in the muñiz familys apa...   39535  \n",
       "3      pan pan a giant panda whose virility helped sp...   39535  \n",
       "4      after the bullet shells get counted the blood ...   43694  \n",
       "...                                                  ...     ...  \n",
       "43689  one night in may my wife sat up in bed and sai...     154  \n",
       "43690  conan obrien was once the upstart of the comed...     154  \n",
       "43691  fifty years ago california republicans elected...     154  \n",
       "43692  this weekend amidst a torrent of rain one of c...     154  \n",
       "43693  for years the national football league has bee...     154  \n",
       "\n",
       "[43694 rows x 9 columns]"
      ]
     },
     "execution_count": 379,
     "metadata": {},
     "output_type": "execute_result"
    }
   ],
   "source": [
    "pd.merge(df, df.groupby(['publication', 'date']).count().cumsum().id.rename('cumsum'), on=['publication', 'date'])"
   ]
  },
  {
   "cell_type": "markdown",
   "metadata": {},
   "source": [
    "### Визуализация\n",
    "\n",
    "Обратите внимание, что у графиков должны быть подписаны оси, заголовок графика и при необходимости обязательно наличие легенды. За отсутствие названий графиков и подписей к осям могут снижаться баллы. Все картинки должны быть самодостаточны и визуально удобны для восприятия, так чтобы не нужно было смотреть ваш код или знать задание, чтобы понять что на них изображено.\n",
    "\n",
    "![](https://imgs.xkcd.com/comics/convincing.png)\n",
    "\n",
    "**(0.5 балла) Задача 20.** Используя функцию ```gen_uncertain_data``` для генерации выборки, отобразите на графике синим цветом функцию ```y(x)```, а также ее доверительный интервал в виде закрашенной зеленым цветом области от ```y[i] - error[i]``` до ```y[i] + error[i]```. Полезной может оказаться функция fill_between.\n",
    "\n",
    "    def gen_uncertain_data():\n",
    "        x = np.linspace(0, 30, 100)\n",
    "        y = np.sin(x/6*np.pi) + np.random.normal(0, 0.02, size=x.shape)\n",
    "        error = np.random.normal(0.1, 0.02, size=y.shape)\n",
    "        return x, y, error"
   ]
  },
  {
   "cell_type": "code",
   "execution_count": 394,
   "metadata": {},
   "outputs": [
    {
     "data": {
      "image/png": "[encoded data removed]",
      "text/plain": [
       "<Figure size 504x504 with 1 Axes>"
      ]
     },
     "metadata": {
      "needs_background": "light"
     },
     "output_type": "display_data"
    }
   ],
   "source": [
    "import matplotlib.pyplot as plt\n",
    "\n",
    "def gen_uncertain_data():\n",
    "    x = np.linspace(0, 30, 100)\n",
    "    y = np.sin(x/6*np.pi) + np.random.normal(0, 0.02, size=x.shape)\n",
    "    error = np.random.normal(0.1, 0.02, size=y.shape)\n",
    "    return x, y, error\n",
    "\n",
    "x, y, error = gen_uncertain_data() \n",
    "\n",
    "plt.figure(figsize=(7,7))\n",
    "plt.fill_between(x, y-error, y+error, color='g', label='trust zone')\n",
    "plt.plot(x, y, lw=5, label='true values')\n",
    "plt.xlabel(\"x\")\n",
    "plt.ylabel(\"y\")\n",
    "plt.title(\"noisy sin\")\n",
    "plt.legend()\n",
    "plt.show()"
   ]
  },
  {
   "cell_type": "markdown",
   "metadata": {},
   "source": [
    "**(0.5 балла) Задача 21.** Bизуализируйте соотношение различных издательств, используя [pie plot](http://pandas.pydata.org/pandas-docs/stable/visualization.html#visualization-pie).\n"
   ]
  },
  {
   "cell_type": "code",
   "execution_count": 398,
   "metadata": {},
   "outputs": [
    {
     "data": {
      "text/plain": [
       "<AxesSubplot:ylabel='pub amount'>"
      ]
     },
     "execution_count": 398,
     "metadata": {},
     "output_type": "execute_result"
    },
    {
     "data": {
      "image/png": "[encoded data removed]",
      "text/plain": [
       "<Figure size 432x288 with 1 Axes>"
      ]
     },
     "metadata": {},
     "output_type": "display_data"
    }
   ],
   "source": [
    "df.groupby('publication').count().id.rename('pub amount').plot.pie()"
   ]
  },
  {
   "cell_type": "markdown",
   "metadata": {},
   "source": [
    "**(0.5 балла) Задача 22.** Постройте распределение количества публикаций каждого издания по каждому году, используя [bar plot](http://pandas.pydata.org/pandas-docs/stable/visualization.html#visualization-barplot). В какой год было больше всего публикаций?"
   ]
  },
  {
   "cell_type": "code",
   "execution_count": 410,
   "metadata": {},
   "outputs": [
    {
     "data": {
      "text/plain": [
       "<AxesSubplot:xlabel='publication,year'>"
      ]
     },
     "execution_count": 410,
     "metadata": {},
     "output_type": "execute_result"
    },
    {
     "data": {
      "image/png": "[encoded data removed]",
      "text/plain": [
       "<Figure size 432x288 with 1 Axes>"
      ]
     },
     "metadata": {
      "needs_background": "light"
     },
     "output_type": "display_data"
    }
   ],
   "source": [
    "df.groupby(['publication', 'year']).count().id.rename('amount').plot.bar()"
   ]
  },
  {
   "cell_type": "markdown",
   "metadata": {},
   "source": [
    "**(0.5 балла) Задача 23.** Изобразите распределение длин заголовков (*title*) статей для каждого издательства. Для этого можно воспользоваться, например, функцией [sns.violinplot](https://seaborn.pydata.org/generated/seaborn.violinplot.html)."
   ]
  },
  {
   "cell_type": "code",
   "execution_count": 430,
   "metadata": {},
   "outputs": [
    {
     "data": {
      "text/plain": [
       "<AxesSubplot:xlabel='publication', ylabel='Title length'>"
      ]
     },
     "execution_count": 430,
     "metadata": {},
     "output_type": "execute_result"
    },
    {
     "data": {
      "image/png": "[encoded data removed]",
      "text/plain": [
       "<Figure size 432x288 with 1 Axes>"
      ]
     },
     "metadata": {
      "needs_background": "light"
     },
     "output_type": "display_data"
    }
   ],
   "source": [
    "import seaborn as sns\n",
    "\n",
    "sns.violinplot(x=df.publication, y=df.title.str.len().rename('Title length'))"
   ]
  }
 ],
 "metadata": {
  "kernelspec": {
   "display_name": "Python 3",
   "language": "python",
   "name": "python3"
  },
  "language_info": {
   "codemirror_mode": {
    "name": "ipython",
    "version": 3
   },
   "file_extension": ".py",
   "mimetype": "text/x-python",
   "name": "python",
   "nbconvert_exporter": "python",
   "pygments_lexer": "ipython3",
   "version": "3.8.5"
  }
 },
 "nbformat": 4,
 "nbformat_minor": 1
}
